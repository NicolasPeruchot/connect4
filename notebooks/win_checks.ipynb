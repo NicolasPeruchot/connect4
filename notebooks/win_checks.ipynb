{
 "cells": [
  {
   "cell_type": "code",
   "execution_count": 5,
   "metadata": {},
   "outputs": [],
   "source": [
    "from pettingzoo.classic import connect_four_v3"
   ]
  },
  {
   "cell_type": "code",
   "execution_count": 25,
   "metadata": {},
   "outputs": [
    {
     "data": {
      "text/plain": [
       "array([[0, 0, 0, 0, 0, 0, 0],\n",
       "       [2, 0, 0, 0, 0, 0, 0],\n",
       "       [1, 0, 0, 0, 0, 0, 0],\n",
       "       [1, 0, 0, 0, 0, 2, 0],\n",
       "       [2, 2, 2, 1, 0, 1, 1],\n",
       "       [1, 1, 1, 2, 2, 2, 1]], dtype=int8)"
      ]
     },
     "execution_count": 25,
     "metadata": {},
     "output_type": "execute_result"
    }
   ],
   "source": [
    "env = connect_four_v3.env()\n",
    "env.reset()\n",
    "current_agent = \"player_0\"\n",
    "env.agent_selection = current_agent\n",
    "\n",
    "for x in [0,0,1,1,2,2,0,3,3,4,0,5,5,0,6,5,6]:\n",
    "    env.step(x)\n",
    "\n",
    "state = env.observe(agent=\"player_0\")[\"observation\"]\n",
    "grille = state[:, :, 0] + state[:, :, 1] * 2\n",
    "grille"
   ]
  },
  {
   "cell_type": "code",
   "execution_count": 26,
   "metadata": {},
   "outputs": [],
   "source": [
    "def win_row(grille):\n",
    "    winning_position = [0,1,1,1]\n",
    "    below = [True for _ in range(grille.shape[1])]\n",
    "    for i in range(grille.shape[0] - 1, -1, -1):\n",
    "        for j in range (0,4):\n",
    "            current_check=grille[i][j:j+4].tolist()\n",
    "            current_check_ordered = current_check.copy()\n",
    "            current_check_ordered.sort()\n",
    "            if current_check_ordered == winning_position:\n",
    "                if below[current_check.index(0)+j]:\n",
    "                    return True\n",
    "        below = [x!=0 for x in grille[i]]\n",
    "    return False"
   ]
  },
  {
   "cell_type": "code",
   "execution_count": 27,
   "metadata": {},
   "outputs": [
    {
     "data": {
      "text/plain": [
       "True"
      ]
     },
     "execution_count": 27,
     "metadata": {},
     "output_type": "execute_result"
    }
   ],
   "source": [
    "win_row(grille)"
   ]
  },
  {
   "cell_type": "code",
   "execution_count": 37,
   "metadata": {},
   "outputs": [
    {
     "data": {
      "text/plain": [
       "array([[0, 0, 0, 0, 0, 0, 0],\n",
       "       [0, 1, 0, 0, 0, 0, 0],\n",
       "       [0, 1, 0, 0, 0, 0, 0],\n",
       "       [0, 1, 0, 0, 0, 0, 0],\n",
       "       [0, 2, 0, 0, 0, 0, 0],\n",
       "       [0, 1, 2, 0, 2, 0, 0]], dtype=int8)"
      ]
     },
     "execution_count": 37,
     "metadata": {},
     "output_type": "execute_result"
    }
   ],
   "source": [
    "env = connect_four_v3.env()\n",
    "env.reset()\n",
    "current_agent = \"player_0\"\n",
    "env.agent_selection = current_agent\n",
    "\n",
    "for x in [1,1,1,2,1,4,1]:\n",
    "    env.step(x)\n",
    "\n",
    "state = env.observe(agent=\"player_0\")[\"observation\"]\n",
    "grille = state[:, :, 0] + state[:, :, 1] * 2\n",
    "grille"
   ]
  },
  {
   "cell_type": "code",
   "execution_count": 38,
   "metadata": {},
   "outputs": [],
   "source": [
    "def win_column(grille):\n",
    "    for j in range(grille.shape[1]):\n",
    "        if grille[0, j] == 0 and [x for x in grille[:, j] if x != 0][:3] == [1, 1, 1]:\n",
    "            return True\n",
    "    return False"
   ]
  },
  {
   "cell_type": "code",
   "execution_count": null,
   "metadata": {},
   "outputs": [
    {
     "data": {
      "text/plain": [
       "True"
      ]
     },
     "execution_count": 39,
     "metadata": {},
     "output_type": "execute_result"
    }
   ],
   "source": [
    "win_column(grille)"
   ]
  },
  {
   "cell_type": "code",
   "execution_count": 24,
   "metadata": {},
   "outputs": [],
   "source": [
    "def win_diagonal(grille):\n",
    "    winning_position = [0, 1, 1, 1]\n",
    "    rows, cols = grille.shape\n",
    "    for i in range(rows - 3):\n",
    "        for j in range(cols - 3):\n",
    "            # Vérifie la diagonale montante (de gauche à droite)\n",
    "            if grille[i+3][j] == 0 and grille[i+2][j+1] == 1 and grille[i+1][j+2] == 1 and grille[i][j+3] == 1:\n",
    "                if i == rows - 4 or grille[i+4][j] != 0:\n",
    "                    return True\n",
    "            # Vérifie la diagonale descendante (de gauche à droite)\n",
    "            if grille[i][j] == 1 and grille[i+1][j+1] == 1 and grille[i+2][j+2] == 1 and grille[i+3][j+3] == 0:\n",
    "                if i == 0 or grille[i-1][j+3] != 0:\n",
    "                    return True\n",
    "            # Vérifie la diagonale montante (de droite à gauche)\n",
    "            if grille[i+3][j+3] == 0 and grille[i+2][j+2] == 1 and grille[i+1][j+1] == 1 and grille[i][j] == 1:\n",
    "                if i == rows - 4 or grille[i+4][j+3] != 0:\n",
    "                    return True\n",
    "            # Vérifie la diagonale descendante (de droite à gauche)\n",
    "            if grille[i][j+3] == 0 and grille[i+1][j+2] == 1 and grille[i+2][j+1] == 1 and grille[i+3][j] == 1:\n",
    "                if i == 0 or grille[i-1][j] != 0:\n",
    "                    return True\n",
    "    return False\n"
   ]
  },
  {
   "cell_type": "code",
   "execution_count": 25,
   "metadata": {},
   "outputs": [
    {
     "data": {
      "text/plain": [
       "array([[0, 0, 0, 0, 0, 0, 0],\n",
       "       [0, 0, 0, 0, 0, 0, 0],\n",
       "       [0, 0, 0, 0, 0, 0, 0],\n",
       "       [0, 0, 1, 0, 0, 0, 0],\n",
       "       [0, 1, 1, 0, 0, 0, 0],\n",
       "       [1, 2, 2, 2, 0, 0, 0]], dtype=int8)"
      ]
     },
     "execution_count": 25,
     "metadata": {},
     "output_type": "execute_result"
    }
   ],
   "source": [
    "env = connect_four_v3.env()\n",
    "env.reset()\n",
    "current_agent = \"player_0\"\n",
    "env.agent_selection = current_agent\n",
    "\n",
    "for x in [0,1,1,2,2,3,2]:\n",
    "    env.step(x)\n",
    "\n",
    "state = env.observe(agent=\"player_0\")[\"observation\"]\n",
    "grille = state[:, :, 0] + state[:, :, 1] * 2\n",
    "grille"
   ]
  },
  {
   "cell_type": "code",
   "execution_count": 26,
   "metadata": {},
   "outputs": [
    {
     "data": {
      "text/plain": [
       "False"
      ]
     },
     "execution_count": 26,
     "metadata": {},
     "output_type": "execute_result"
    }
   ],
   "source": [
    "win_diagonal(grille)"
   ]
  },
  {
   "cell_type": "code",
   "execution_count": null,
   "metadata": {},
   "outputs": [],
   "source": []
  }
 ],
 "metadata": {
  "kernelspec": {
   "display_name": "venv",
   "language": "python",
   "name": "python3"
  },
  "language_info": {
   "codemirror_mode": {
    "name": "ipython",
    "version": 3
   },
   "file_extension": ".py",
   "mimetype": "text/x-python",
   "name": "python",
   "nbconvert_exporter": "python",
   "pygments_lexer": "ipython3",
   "version": "3.10.9"
  },
  "orig_nbformat": 4
 },
 "nbformat": 4,
 "nbformat_minor": 2
}
