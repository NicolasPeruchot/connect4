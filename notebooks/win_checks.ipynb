{
 "cells": [
  {
   "cell_type": "code",
   "execution_count": 56,
   "metadata": {},
   "outputs": [],
   "source": [
    "from pettingzoo.classic import connect_four_v3\n",
    "import numpy as np"
   ]
  },
  {
   "cell_type": "code",
   "execution_count": 66,
   "metadata": {},
   "outputs": [],
   "source": [
    "def is_valid_play(grille, position):\n",
    "    (i, j) = position\n",
    "    rows, cols = grille.shape\n",
    "    # Check nothing above\n",
    "    if np.all(grille[:i, j] == 0):\n",
    "        # Check something underneath\n",
    "        if i == rows - 1 or grille[i+1, j] != 0:\n",
    "            return True\n",
    "    else:\n",
    "        return False"
   ]
  },
  {
   "cell_type": "code",
   "execution_count": 11,
   "metadata": {},
   "outputs": [
    {
     "data": {
      "text/plain": [
       "array([[0, 0, 0, 0, 0, 0, 0],\n",
       "       [2, 0, 0, 0, 0, 0, 0],\n",
       "       [1, 0, 0, 0, 0, 0, 0],\n",
       "       [1, 0, 0, 0, 0, 2, 0],\n",
       "       [2, 2, 2, 1, 0, 1, 1],\n",
       "       [1, 1, 1, 2, 2, 2, 1]], dtype=int8)"
      ]
     },
     "execution_count": 11,
     "metadata": {},
     "output_type": "execute_result"
    }
   ],
   "source": [
    "env = connect_four_v3.env()\n",
    "env.reset()\n",
    "current_agent = \"player_0\"\n",
    "env.agent_selection = current_agent\n",
    "\n",
    "for x in [0,0,1,1,2,2,0,3,3,4,0,5,5,0,6,5,6]:\n",
    "    env.step(x)\n",
    "\n",
    "state = env.observe(agent=\"player_0\")[\"observation\"]\n",
    "grille = state[:, :, 0] + state[:, :, 1] * 2\n",
    "grille"
   ]
  },
  {
   "cell_type": "code",
   "execution_count": 12,
   "metadata": {},
   "outputs": [],
   "source": [
    "def win_row(grille):\n",
    "    winning_position = [0,1,1,1]\n",
    "    below = [True for _ in range(grille.shape[1])]\n",
    "    for i in range(grille.shape[0] - 1, -1, -1):\n",
    "        for j in range (0,4):\n",
    "            current_check=grille[i, j:j+4].tolist()\n",
    "            current_check_ordered = current_check.copy()\n",
    "            current_check_ordered.sort()\n",
    "            if current_check_ordered == winning_position:\n",
    "                if below[current_check.index(0)+j]:\n",
    "                    return True\n",
    "        below = [x!=0 for x in grille[i]]\n",
    "    return False"
   ]
  },
  {
   "cell_type": "code",
   "execution_count": 13,
   "metadata": {},
   "outputs": [
    {
     "data": {
      "text/plain": [
       "True"
      ]
     },
     "execution_count": 13,
     "metadata": {},
     "output_type": "execute_result"
    }
   ],
   "source": [
    "win_row(grille)"
   ]
  },
  {
   "cell_type": "code",
   "execution_count": 14,
   "metadata": {},
   "outputs": [
    {
     "data": {
      "text/plain": [
       "array([[0, 0, 0, 0, 0, 0, 0],\n",
       "       [0, 1, 0, 0, 0, 0, 0],\n",
       "       [0, 1, 0, 0, 0, 0, 0],\n",
       "       [0, 1, 0, 0, 0, 0, 0],\n",
       "       [0, 2, 0, 0, 0, 0, 0],\n",
       "       [0, 1, 2, 0, 2, 0, 0]], dtype=int8)"
      ]
     },
     "execution_count": 14,
     "metadata": {},
     "output_type": "execute_result"
    }
   ],
   "source": [
    "env = connect_four_v3.env()\n",
    "env.reset()\n",
    "current_agent = \"player_0\"\n",
    "env.agent_selection = current_agent\n",
    "\n",
    "for x in [1,1,1,2,1,4,1]:\n",
    "    env.step(x)\n",
    "\n",
    "state = env.observe(agent=\"player_0\")[\"observation\"]\n",
    "grille = state[:, :, 0] + state[:, :, 1] * 2\n",
    "grille"
   ]
  },
  {
   "cell_type": "code",
   "execution_count": 15,
   "metadata": {},
   "outputs": [],
   "source": [
    "def win_column(grille):\n",
    "    for j in range(grille.shape[1]):\n",
    "        # S'il est possible de jouer dans dans une colonne, on vérifie si il y a victoire direct si on y joue\n",
    "        if grille[0, j] == 0 and [x for x in grille[:, j] if x != 0, :3] == [1, 1, 1]:\n",
    "            return True\n",
    "    return False"
   ]
  },
  {
   "cell_type": "code",
   "execution_count": 16,
   "metadata": {},
   "outputs": [
    {
     "data": {
      "text/plain": [
       "True"
      ]
     },
     "execution_count": 16,
     "metadata": {},
     "output_type": "execute_result"
    }
   ],
   "source": [
    "win_column(grille)"
   ]
  },
  {
   "cell_type": "code",
   "execution_count": 75,
   "metadata": {},
   "outputs": [
    {
     "data": {
      "text/plain": [
       "array([[0, 0, 0, 0, 0, 0, 0],\n",
       "       [0, 0, 0, 0, 0, 0, 0],\n",
       "       [0, 0, 0, 0, 0, 0, 0],\n",
       "       [0, 2, 1, 0, 0, 0, 0],\n",
       "       [0, 1, 1, 1, 0, 0, 0],\n",
       "       [1, 2, 2, 2, 0, 2, 0]], dtype=int8)"
      ]
     },
     "execution_count": 75,
     "metadata": {},
     "output_type": "execute_result"
    }
   ],
   "source": [
    "env = connect_four_v3.env()\n",
    "env.reset()\n",
    "current_agent = \"player_0\"\n",
    "env.agent_selection = current_agent\n",
    "\n",
    "#for x in [0,1,1,2,2,3,2,5,3,3]:\n",
    "#    env.step(x)\n",
    "for x in [0,1,1,2,2,3,2,5,3,1]:\n",
    "    env.step(x)\n",
    "\n",
    "state = env.observe(agent=\"player_0\")[\"observation\"]\n",
    "grille = state[:, :, 0] + state[:, :, 1] * 2\n",
    "grille"
   ]
  },
  {
   "cell_type": "code",
   "execution_count": 76,
   "metadata": {},
   "outputs": [],
   "source": [
    "def win_diagonal(grille):\n",
    "    \n",
    "    rows, cols = grille.shape\n",
    "    # Vérifie les diagonales montantes\n",
    "    for i in range(3, rows):\n",
    "        for j in range(cols - 3):\n",
    "            n_zeros = 0\n",
    "            n_ones = 0\n",
    "            for idx in range(4):\n",
    "                if grille[i-idx, j+idx] == 1:\n",
    "                    n_ones += 1\n",
    "                if grille[i-idx, j+idx] == 0:\n",
    "                    n_zeros += 1\n",
    "                    zero_position = (i-idx, j+idx)\n",
    "            if n_ones == 3 and n_zeros == 1 and is_valid_play(grille, zero_position):\n",
    "                return True\n",
    "    # Vérifie les diagonale descendante\n",
    "    for i in range(rows - 3):\n",
    "        for j in range(cols - 3):\n",
    "            n_zeros = 0\n",
    "            n_ones = 0\n",
    "            for idx in range(4):\n",
    "                if grille[i+idx, j+idx] == 1:\n",
    "                    n_ones += 1\n",
    "                if grille[i+idx, j+idx] == 0:\n",
    "                    n_zeros += 1\n",
    "                    zero_position = (i+idx, j+idx)\n",
    "            if n_ones == 3 and n_zeros == 1 and is_valid_play(grille, zero_position):\n",
    "                return True\n",
    "            \n",
    "    return False\n"
   ]
  },
  {
   "cell_type": "code",
   "execution_count": 77,
   "metadata": {},
   "outputs": [
    {
     "data": {
      "text/plain": [
       "False"
      ]
     },
     "execution_count": 77,
     "metadata": {},
     "output_type": "execute_result"
    }
   ],
   "source": [
    "win_diagonal(grille)"
   ]
  },
  {
   "cell_type": "code",
   "execution_count": null,
   "metadata": {},
   "outputs": [],
   "source": []
  }
 ],
 "metadata": {
  "kernelspec": {
   "display_name": "local-venv",
   "language": "python",
   "name": "local-venv"
  },
  "language_info": {
   "codemirror_mode": {
    "name": "ipython",
    "version": 3
   },
   "file_extension": ".py",
   "mimetype": "text/x-python",
   "name": "python",
   "nbconvert_exporter": "python",
   "pygments_lexer": "ipython3",
   "version": "3.8.5"
  },
  "orig_nbformat": 4
 },
 "nbformat": 4,
 "nbformat_minor": 2
}
