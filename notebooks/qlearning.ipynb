{
 "cells": [
  {
   "cell_type": "code",
   "execution_count": 3,
   "metadata": {},
   "outputs": [],
   "source": [
    "import sys\n",
    "sys.path.append('../')\n",
    "sys.path.append('../src')"
   ]
  },
  {
   "cell_type": "code",
   "execution_count": 4,
   "metadata": {},
   "outputs": [],
   "source": [
    "from src.qlearning import Qlearning\n",
    "import matplotlib.pyplot as plt"
   ]
  },
  {
   "cell_type": "markdown",
   "metadata": {},
   "source": [
    "# Set up agent"
   ]
  },
  {
   "cell_type": "code",
   "execution_count": 5,
   "metadata": {},
   "outputs": [],
   "source": [
    "class Player:\n",
    "    def __init__(self, get_action) -> None:\n",
    "        self.get_action = get_action"
   ]
  },
  {
   "cell_type": "markdown",
   "metadata": {},
   "source": [
    "# Set up training"
   ]
  },
  {
   "cell_type": "code",
   "execution_count": 6,
   "metadata": {},
   "outputs": [
    {
     "name": "stderr",
     "output_type": "stream",
     "text": [
      "100%|██████████| 100/100 [00:00<00:00, 151.60it/s]\n"
     ]
    }
   ],
   "source": [
    "Q = Qlearning()\n",
    "Q.training(n_training_game=100)\n",
    "Q.play()"
   ]
  },
  {
   "cell_type": "markdown",
   "metadata": {},
   "source": [
    "# Analyze training"
   ]
  },
  {
   "cell_type": "code",
   "execution_count": 8,
   "metadata": {},
   "outputs": [
    {
     "ename": "ValueError",
     "evalue": "v cannot be empty",
     "output_type": "error",
     "traceback": [
      "\u001b[0;31m---------------------------------------------------------------------------\u001b[0m",
      "\u001b[0;31mValueError\u001b[0m                                Traceback (most recent call last)",
      "Cell \u001b[0;32mIn[8], line 1\u001b[0m\n\u001b[0;32m----> 1\u001b[0m Q\u001b[39m.\u001b[39;49mplot_training_stats()\n\u001b[1;32m      2\u001b[0m plt\u001b[39m.\u001b[39mshow()\n",
      "File \u001b[0;32m~/workdir/cours/connect4/src/base_model.py:109\u001b[0m, in \u001b[0;36mBaseQLearningModel.plot_training_stats\u001b[0;34m(self)\u001b[0m\n\u001b[1;32m    107\u001b[0m winner \u001b[39m=\u001b[39m np\u001b[39m.\u001b[39marray(\u001b[39mself\u001b[39m\u001b[39m.\u001b[39mstats[\u001b[39m\"\u001b[39m\u001b[39mwinner\u001b[39m\u001b[39m\"\u001b[39m])\n\u001b[1;32m    108\u001b[0m nb_moves_to_win \u001b[39m=\u001b[39m np\u001b[39m.\u001b[39marray(\u001b[39mself\u001b[39m\u001b[39m.\u001b[39mstats[\u001b[39m\"\u001b[39m\u001b[39mnb_moves_to_win\u001b[39m\u001b[39m\"\u001b[39m])\n\u001b[0;32m--> 109\u001b[0m mobile_mean_nb_moves_to_win \u001b[39m=\u001b[39m np\u001b[39m.\u001b[39;49mconvolve(nb_moves_to_win, np\u001b[39m.\u001b[39;49mones(\u001b[39m10\u001b[39;49m), \u001b[39m\"\u001b[39;49m\u001b[39mvalid\u001b[39;49m\u001b[39m\"\u001b[39;49m) \u001b[39m/\u001b[39m \u001b[39m10\u001b[39m\n\u001b[1;32m    110\u001b[0m N \u001b[39m=\u001b[39m \u001b[39mlen\u001b[39m(winner)\n\u001b[1;32m    112\u001b[0m \u001b[39m# compute advanced stats\u001b[39;00m\n",
      "File \u001b[0;32m<__array_function__ internals>:200\u001b[0m, in \u001b[0;36mconvolve\u001b[0;34m(*args, **kwargs)\u001b[0m\n",
      "File \u001b[0;32m~/workdir/cours/connect4/venv/lib/python3.10/site-packages/numpy/core/numeric.py:850\u001b[0m, in \u001b[0;36mconvolve\u001b[0;34m(a, v, mode)\u001b[0m\n\u001b[1;32m    848\u001b[0m     \u001b[39mraise\u001b[39;00m \u001b[39mValueError\u001b[39;00m(\u001b[39m'\u001b[39m\u001b[39ma cannot be empty\u001b[39m\u001b[39m'\u001b[39m)\n\u001b[1;32m    849\u001b[0m \u001b[39mif\u001b[39;00m \u001b[39mlen\u001b[39m(v) \u001b[39m==\u001b[39m \u001b[39m0\u001b[39m:\n\u001b[0;32m--> 850\u001b[0m     \u001b[39mraise\u001b[39;00m \u001b[39mValueError\u001b[39;00m(\u001b[39m'\u001b[39m\u001b[39mv cannot be empty\u001b[39m\u001b[39m'\u001b[39m)\n\u001b[1;32m    851\u001b[0m \u001b[39mreturn\u001b[39;00m multiarray\u001b[39m.\u001b[39mcorrelate(a, v[::\u001b[39m-\u001b[39m\u001b[39m1\u001b[39m], mode)\n",
      "\u001b[0;31mValueError\u001b[0m: v cannot be empty"
     ]
    }
   ],
   "source": [
    "Q.plot_training_stats()\n",
    "plt.show()"
   ]
  },
  {
   "cell_type": "code",
   "execution_count": null,
   "metadata": {},
   "outputs": [],
   "source": []
  },
  {
   "cell_type": "markdown",
   "metadata": {},
   "source": [
    "# Look at a game"
   ]
  },
  {
   "cell_type": "code",
   "execution_count": null,
   "metadata": {},
   "outputs": [],
   "source": [
    "Q.play()"
   ]
  },
  {
   "cell_type": "code",
   "execution_count": null,
   "metadata": {},
   "outputs": [],
   "source": [
    "player = Player(get_action=lambda state: Q.get_action(state))"
   ]
  }
 ],
 "metadata": {
  "kernelspec": {
   "display_name": "venv",
   "language": "python",
   "name": "python3"
  },
  "language_info": {
   "codemirror_mode": {
    "name": "ipython",
    "version": 3
   },
   "file_extension": ".py",
   "mimetype": "text/x-python",
   "name": "python",
   "nbconvert_exporter": "python",
   "pygments_lexer": "ipython3",
   "version": "3.10.6"
  }
 },
 "nbformat": 4,
 "nbformat_minor": 2
}
