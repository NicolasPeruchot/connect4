{
 "cells": [
  {
   "cell_type": "code",
   "execution_count": 5,
   "metadata": {},
   "outputs": [],
   "source": [
    "from pettingzoo.classic import connect_four_v3\n",
    "import random\n",
    "import numpy as np\n",
    "from tqdm import tqdm\n",
    "import time"
   ]
  },
  {
   "cell_type": "code",
   "execution_count": 6,
   "metadata": {},
   "outputs": [
    {
     "name": "stderr",
     "output_type": "stream",
     "text": [
      "100%|██████████| 100000/100000 [05:18<00:00, 314.34it/s]\n"
     ]
    }
   ],
   "source": [
    "\n",
    "q_table = {}\n",
    "epsilon=0.1\n",
    "alpha = 0.1\n",
    "gamma = 0.6\n",
    "\n",
    "for _ in tqdm(range(100000)):\n",
    "    env = connect_four_v3.env()\n",
    "    env.reset()\n",
    "\n",
    "    for agent in env.agent_iter():\n",
    "        observation, reward, termination, truncation, info  = env.last()\n",
    "        if termination or truncation:\n",
    "            action = None\n",
    "            break\n",
    "        else:\n",
    "            state=''.join([str(x) for x in observation[\"observation\"].flatten()])\n",
    "            if state not in q_table.keys():\n",
    "                q_table[state]=[0 for _ in range(7)]\n",
    "            if random.uniform(0, 1) < epsilon:\n",
    "                action = env.action_space(agent).sample(observation[\"action_mask\"]) # Explore action space\n",
    "            else:\n",
    "                possible=[q_table[state][i] if observation[\"action_mask\"][i]!=0 else -np.inf for i in range (7)]\n",
    "                action = np.argmax(possible) # Exploit learned values\n",
    "\n",
    "\n",
    "        env.step(action)\n",
    "\n",
    "        observation, reward, termination, truncation, info  = env.last()\n",
    "\n",
    "        next_state =''.join([str(x) for x in observation[\"observation\"].flatten()])\n",
    "        if next_state not in q_table.keys():\n",
    "            q_table[next_state]=[0 for _ in range(7)]\n",
    "\n",
    "        old_value = q_table[state][action]\n",
    "        next_max = np.max(q_table[next_state])\n",
    "            \n",
    "        new_value = (1 - alpha) * old_value + alpha * (reward + gamma * next_max)\n",
    "\n",
    "        q_table[state][action] = new_value\n",
    "\n",
    "    env.close()"
   ]
  },
  {
   "cell_type": "code",
   "execution_count": 11,
   "metadata": {},
   "outputs": [],
   "source": [
    "env = connect_four_v3.env(render_mode=\"human\")\n",
    "env.reset()\n",
    "\n",
    "for agent in env.agent_iter():\n",
    "    observation, reward, termination, truncation, info  = env.last()\n",
    "    if termination or truncation:\n",
    "        action = None\n",
    "        break\n",
    "    else:\n",
    "        state=''.join([str(x) for x in observation[\"observation\"].flatten()])\n",
    "        if state not in q_table.keys():\n",
    "            q_table[state]=[0 for _ in range(7)]\n",
    "        if random.uniform(0, 1) < 0:\n",
    "            action = env.action_space(agent).sample(observation[\"action_mask\"]) # Explore action space\n",
    "        else:\n",
    "            action = np.argmax(q_table[state]) # Exploit learned values\n",
    "\n",
    "        # action = env.action_space(agent).sample(observation[\"action_mask\"])  # this is where you would insert your policy\n",
    "\n",
    "    env.step(action)\n",
    "\n",
    "    observation, reward, termination, truncation, info  = env.last()\n",
    "\n",
    "    next_state =''.join([str(x) for x in observation[\"observation\"].flatten()])\n",
    "    if next_state not in q_table.keys():\n",
    "        q_table[next_state]=[0 for _ in range(7)]\n",
    "\n",
    "    old_value = q_table[state][action]\n",
    "    next_max = np.max(q_table[next_state])\n",
    "        \n",
    "    new_value = (1 - alpha) * old_value + alpha * (reward + gamma * next_max)\n",
    "\n",
    "    q_table[state][action] = new_value\n",
    "    time.sleep(0.4)\n",
    "env.close()"
   ]
  }
 ],
 "metadata": {
  "kernelspec": {
   "display_name": "venv",
   "language": "python",
   "name": "python3"
  },
  "language_info": {
   "codemirror_mode": {
    "name": "ipython",
    "version": 3
   },
   "file_extension": ".py",
   "mimetype": "text/x-python",
   "name": "python",
   "nbconvert_exporter": "python",
   "pygments_lexer": "ipython3",
   "version": "3.10.6"
  },
  "orig_nbformat": 4
 },
 "nbformat": 4,
 "nbformat_minor": 2
}
